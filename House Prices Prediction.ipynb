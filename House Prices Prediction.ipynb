{
 "cells": [
  {
   "cell_type": "code",
   "execution_count": 50,
   "id": "configured-coating",
   "metadata": {},
   "outputs": [],
   "source": [
    "from sklearn.datasets import load_boston\n",
    "from sklearn.neighbors import KNeighborsRegressor\n",
    "from sklearn.linear_model import LinearRegression\n",
    "from sklearn.pipeline import Pipeline\n",
    "from sklearn.preprocessing import StandardScaler\n",
    "from sklearn.model_selection import GridSearchCV\n",
    "\n",
    "import matplotlib.pyplot as plt\n",
    "import pandas as pd"
   ]
  },
  {
   "cell_type": "code",
   "execution_count": 67,
   "id": "fuzzy-triangle",
   "metadata": {},
   "outputs": [],
   "source": [
    "model = KNeighborsRegressor(n_neighbors=4)\n",
    "# model = LinearRegression()"
   ]
  },
  {
   "cell_type": "code",
   "execution_count": 52,
   "id": "expired-president",
   "metadata": {},
   "outputs": [
    {
     "data": {
      "text/plain": [
       "{'memory': None,\n",
       " 'steps': [('scale', StandardScaler()),\n",
       "  ('model', KNeighborsRegressor(n_neighbors=1))],\n",
       " 'verbose': False,\n",
       " 'scale': StandardScaler(),\n",
       " 'model': KNeighborsRegressor(n_neighbors=1),\n",
       " 'scale__copy': True,\n",
       " 'scale__with_mean': True,\n",
       " 'scale__with_std': True,\n",
       " 'model__algorithm': 'auto',\n",
       " 'model__leaf_size': 30,\n",
       " 'model__metric': 'minkowski',\n",
       " 'model__metric_params': None,\n",
       " 'model__n_jobs': None,\n",
       " 'model__n_neighbors': 1,\n",
       " 'model__p': 2,\n",
       " 'model__weights': 'uniform'}"
      ]
     },
     "execution_count": 52,
     "metadata": {},
     "output_type": "execute_result"
    }
   ],
   "source": [
    "pipe = Pipeline([\n",
    "      (\"scale\", StandardScaler()),\n",
    "      (\"model\", KNeighborsRegressor(n_neighbors=1))  \n",
    "])\n",
    "pipe.get_params()"
   ]
  },
  {
   "cell_type": "code",
   "execution_count": 53,
   "id": "beneficial-treaty",
   "metadata": {},
   "outputs": [],
   "source": [
    "data = load_boston(return_X_y=True)"
   ]
  },
  {
   "cell_type": "code",
   "execution_count": 54,
   "id": "statewide-mineral",
   "metadata": {},
   "outputs": [],
   "source": [
    "X, y = data"
   ]
  },
  {
   "cell_type": "code",
   "execution_count": 55,
   "id": "familiar-stamp",
   "metadata": {},
   "outputs": [
    {
     "data": {
      "text/plain": [
       "Pipeline(steps=[('scale', StandardScaler()),\n",
       "                ('model', KNeighborsRegressor(n_neighbors=1))])"
      ]
     },
     "execution_count": 55,
     "metadata": {},
     "output_type": "execute_result"
    }
   ],
   "source": [
    "pipe.fit(X, y)"
   ]
  },
  {
   "cell_type": "code",
   "execution_count": 68,
   "id": "framed-laugh",
   "metadata": {},
   "outputs": [
    {
     "data": {
      "text/plain": [
       "KNeighborsRegressor(n_neighbors=4)"
      ]
     },
     "execution_count": 68,
     "metadata": {},
     "output_type": "execute_result"
    }
   ],
   "source": [
    "model.fit(X, y)"
   ]
  },
  {
   "cell_type": "code",
   "execution_count": 69,
   "id": "accepting-contractor",
   "metadata": {},
   "outputs": [],
   "source": [
    "pred = model.predict(X)"
   ]
  },
  {
   "cell_type": "code",
   "execution_count": 71,
   "id": "continental-bridges",
   "metadata": {},
   "outputs": [],
   "source": [
    "pred = pipe.predict(X)"
   ]
  },
  {
   "cell_type": "code",
   "execution_count": 72,
   "id": "scientific-spectrum",
   "metadata": {},
   "outputs": [
    {
     "data": {
      "text/plain": [
       "<matplotlib.collections.PathCollection at 0x1bbe39d1550>"
      ]
     },
     "execution_count": 72,
     "metadata": {},
     "output_type": "execute_result"
    },
    {
     "data": {
      "image/png": "[encoded data removed]",
      "text/plain": [
       "<Figure size 432x288 with 1 Axes>"
      ]
     },
     "metadata": {
      "needs_background": "light"
     },
     "output_type": "display_data"
    }
   ],
   "source": [
    "plt.scatter(pred, y)"
   ]
  },
  {
   "cell_type": "code",
   "execution_count": 77,
   "id": "historical-permission",
   "metadata": {},
   "outputs": [],
   "source": [
    "gs_model = GridSearchCV(estimator = pipe,\n",
    "            param_grid = {'model__n_neighbors' : range(1, 11)}, \n",
    "            cv = 3\n",
    "            )"
   ]
  },
  {
   "cell_type": "code",
   "execution_count": 78,
   "id": "funny-peoples",
   "metadata": {},
   "outputs": [
    {
     "data": {
      "text/plain": [
       "GridSearchCV(cv=3,\n",
       "             estimator=Pipeline(steps=[('scale', StandardScaler()),\n",
       "                                       ('model',\n",
       "                                        KNeighborsRegressor(n_neighbors=1))]),\n",
       "             param_grid={'model__n_neighbors': range(1, 11)})"
      ]
     },
     "execution_count": 78,
     "metadata": {},
     "output_type": "execute_result"
    }
   ],
   "source": [
    "gs_model.fit(X, y)"
   ]
  },
  {
   "cell_type": "code",
   "execution_count": 79,
   "id": "german-reporter",
   "metadata": {},
   "outputs": [
    {
     "data": {
      "text/html": [
       "<div>\n",
       "<style scoped>\n",
       "    .dataframe tbody tr th:only-of-type {\n",
       "        vertical-align: middle;\n",
       "    }\n",
       "\n",
       "    .dataframe tbody tr th {\n",
       "        vertical-align: top;\n",
       "    }\n",
       "\n",
       "    .dataframe thead th {\n",
       "        text-align: right;\n",
       "    }\n",
       "</style>\n",
       "<table border=\"1\" class=\"dataframe\">\n",
       "  <thead>\n",
       "    <tr style=\"text-align: right;\">\n",
       "      <th></th>\n",
       "      <th>mean_fit_time</th>\n",
       "      <th>std_fit_time</th>\n",
       "      <th>mean_score_time</th>\n",
       "      <th>std_score_time</th>\n",
       "      <th>param_model__n_neighbors</th>\n",
       "      <th>params</th>\n",
       "      <th>split0_test_score</th>\n",
       "      <th>split1_test_score</th>\n",
       "      <th>split2_test_score</th>\n",
       "      <th>mean_test_score</th>\n",
       "      <th>std_test_score</th>\n",
       "      <th>rank_test_score</th>\n",
       "    </tr>\n",
       "  </thead>\n",
       "  <tbody>\n",
       "    <tr>\n",
       "      <th>0</th>\n",
       "      <td>0.001331</td>\n",
       "      <td>4.692359e-04</td>\n",
       "      <td>0.001662</td>\n",
       "      <td>4.723380e-04</td>\n",
       "      <td>1</td>\n",
       "      <td>{'model__n_neighbors': 1}</td>\n",
       "      <td>0.226933</td>\n",
       "      <td>0.432998</td>\n",
       "      <td>0.127635</td>\n",
       "      <td>0.262522</td>\n",
       "      <td>0.127179</td>\n",
       "      <td>10</td>\n",
       "    </tr>\n",
       "    <tr>\n",
       "      <th>1</th>\n",
       "      <td>0.001665</td>\n",
       "      <td>4.708117e-04</td>\n",
       "      <td>0.001662</td>\n",
       "      <td>4.716390e-04</td>\n",
       "      <td>2</td>\n",
       "      <td>{'model__n_neighbors': 2}</td>\n",
       "      <td>0.358216</td>\n",
       "      <td>0.409229</td>\n",
       "      <td>0.172294</td>\n",
       "      <td>0.313246</td>\n",
       "      <td>0.101821</td>\n",
       "      <td>9</td>\n",
       "    </tr>\n",
       "    <tr>\n",
       "      <th>2</th>\n",
       "      <td>0.001318</td>\n",
       "      <td>4.554715e-04</td>\n",
       "      <td>0.001661</td>\n",
       "      <td>4.693475e-04</td>\n",
       "      <td>3</td>\n",
       "      <td>{'model__n_neighbors': 3}</td>\n",
       "      <td>0.413515</td>\n",
       "      <td>0.476651</td>\n",
       "      <td>0.318534</td>\n",
       "      <td>0.402900</td>\n",
       "      <td>0.064986</td>\n",
       "      <td>1</td>\n",
       "    </tr>\n",
       "    <tr>\n",
       "      <th>3</th>\n",
       "      <td>0.000997</td>\n",
       "      <td>1.123916e-07</td>\n",
       "      <td>0.001994</td>\n",
       "      <td>1.946680e-07</td>\n",
       "      <td>4</td>\n",
       "      <td>{'model__n_neighbors': 4}</td>\n",
       "      <td>0.475349</td>\n",
       "      <td>0.402495</td>\n",
       "      <td>0.273014</td>\n",
       "      <td>0.383619</td>\n",
       "      <td>0.083675</td>\n",
       "      <td>7</td>\n",
       "    </tr>\n",
       "    <tr>\n",
       "      <th>4</th>\n",
       "      <td>0.000998</td>\n",
       "      <td>2.973602e-07</td>\n",
       "      <td>0.001995</td>\n",
       "      <td>1.123916e-07</td>\n",
       "      <td>5</td>\n",
       "      <td>{'model__n_neighbors': 5}</td>\n",
       "      <td>0.512318</td>\n",
       "      <td>0.347951</td>\n",
       "      <td>0.262590</td>\n",
       "      <td>0.374286</td>\n",
       "      <td>0.103638</td>\n",
       "      <td>8</td>\n",
       "    </tr>\n",
       "    <tr>\n",
       "      <th>5</th>\n",
       "      <td>0.000997</td>\n",
       "      <td>1.123916e-07</td>\n",
       "      <td>0.000998</td>\n",
       "      <td>0.000000e+00</td>\n",
       "      <td>6</td>\n",
       "      <td>{'model__n_neighbors': 6}</td>\n",
       "      <td>0.533611</td>\n",
       "      <td>0.389504</td>\n",
       "      <td>0.248482</td>\n",
       "      <td>0.390532</td>\n",
       "      <td>0.116406</td>\n",
       "      <td>6</td>\n",
       "    </tr>\n",
       "    <tr>\n",
       "      <th>6</th>\n",
       "      <td>0.000997</td>\n",
       "      <td>1.123916e-07</td>\n",
       "      <td>0.001995</td>\n",
       "      <td>1.123916e-07</td>\n",
       "      <td>7</td>\n",
       "      <td>{'model__n_neighbors': 7}</td>\n",
       "      <td>0.544782</td>\n",
       "      <td>0.385199</td>\n",
       "      <td>0.243668</td>\n",
       "      <td>0.391216</td>\n",
       "      <td>0.123003</td>\n",
       "      <td>5</td>\n",
       "    </tr>\n",
       "    <tr>\n",
       "      <th>7</th>\n",
       "      <td>0.001662</td>\n",
       "      <td>4.700217e-04</td>\n",
       "      <td>0.001330</td>\n",
       "      <td>4.700779e-04</td>\n",
       "      <td>8</td>\n",
       "      <td>{'model__n_neighbors': 8}</td>\n",
       "      <td>0.589644</td>\n",
       "      <td>0.394650</td>\n",
       "      <td>0.209714</td>\n",
       "      <td>0.398003</td>\n",
       "      <td>0.155124</td>\n",
       "      <td>2</td>\n",
       "    </tr>\n",
       "    <tr>\n",
       "      <th>8</th>\n",
       "      <td>0.000998</td>\n",
       "      <td>1.946680e-07</td>\n",
       "      <td>0.001994</td>\n",
       "      <td>2.247832e-07</td>\n",
       "      <td>9</td>\n",
       "      <td>{'model__n_neighbors': 9}</td>\n",
       "      <td>0.590352</td>\n",
       "      <td>0.407556</td>\n",
       "      <td>0.185253</td>\n",
       "      <td>0.394387</td>\n",
       "      <td>0.165643</td>\n",
       "      <td>3</td>\n",
       "    </tr>\n",
       "    <tr>\n",
       "      <th>9</th>\n",
       "      <td>0.000998</td>\n",
       "      <td>7.867412e-07</td>\n",
       "      <td>0.001662</td>\n",
       "      <td>4.699093e-04</td>\n",
       "      <td>10</td>\n",
       "      <td>{'model__n_neighbors': 10}</td>\n",
       "      <td>0.616510</td>\n",
       "      <td>0.395077</td>\n",
       "      <td>0.164023</td>\n",
       "      <td>0.391870</td>\n",
       "      <td>0.184741</td>\n",
       "      <td>4</td>\n",
       "    </tr>\n",
       "  </tbody>\n",
       "</table>\n",
       "</div>"
      ],
      "text/plain": [
       "   mean_fit_time  std_fit_time  mean_score_time  std_score_time  \\\n",
       "0       0.001331  4.692359e-04         0.001662    4.723380e-04   \n",
       "1       0.001665  4.708117e-04         0.001662    4.716390e-04   \n",
       "2       0.001318  4.554715e-04         0.001661    4.693475e-04   \n",
       "3       0.000997  1.123916e-07         0.001994    1.946680e-07   \n",
       "4       0.000998  2.973602e-07         0.001995    1.123916e-07   \n",
       "5       0.000997  1.123916e-07         0.000998    0.000000e+00   \n",
       "6       0.000997  1.123916e-07         0.001995    1.123916e-07   \n",
       "7       0.001662  4.700217e-04         0.001330    4.700779e-04   \n",
       "8       0.000998  1.946680e-07         0.001994    2.247832e-07   \n",
       "9       0.000998  7.867412e-07         0.001662    4.699093e-04   \n",
       "\n",
       "  param_model__n_neighbors                      params  split0_test_score  \\\n",
       "0                        1   {'model__n_neighbors': 1}           0.226933   \n",
       "1                        2   {'model__n_neighbors': 2}           0.358216   \n",
       "2                        3   {'model__n_neighbors': 3}           0.413515   \n",
       "3                        4   {'model__n_neighbors': 4}           0.475349   \n",
       "4                        5   {'model__n_neighbors': 5}           0.512318   \n",
       "5                        6   {'model__n_neighbors': 6}           0.533611   \n",
       "6                        7   {'model__n_neighbors': 7}           0.544782   \n",
       "7                        8   {'model__n_neighbors': 8}           0.589644   \n",
       "8                        9   {'model__n_neighbors': 9}           0.590352   \n",
       "9                       10  {'model__n_neighbors': 10}           0.616510   \n",
       "\n",
       "   split1_test_score  split2_test_score  mean_test_score  std_test_score  \\\n",
       "0           0.432998           0.127635         0.262522        0.127179   \n",
       "1           0.409229           0.172294         0.313246        0.101821   \n",
       "2           0.476651           0.318534         0.402900        0.064986   \n",
       "3           0.402495           0.273014         0.383619        0.083675   \n",
       "4           0.347951           0.262590         0.374286        0.103638   \n",
       "5           0.389504           0.248482         0.390532        0.116406   \n",
       "6           0.385199           0.243668         0.391216        0.123003   \n",
       "7           0.394650           0.209714         0.398003        0.155124   \n",
       "8           0.407556           0.185253         0.394387        0.165643   \n",
       "9           0.395077           0.164023         0.391870        0.184741   \n",
       "\n",
       "   rank_test_score  \n",
       "0               10  \n",
       "1                9  \n",
       "2                1  \n",
       "3                7  \n",
       "4                8  \n",
       "5                6  \n",
       "6                5  \n",
       "7                2  \n",
       "8                3  \n",
       "9                4  "
      ]
     },
     "execution_count": 79,
     "metadata": {},
     "output_type": "execute_result"
    }
   ],
   "source": [
    "rs = pd.DataFrame(gs_model.cv_results_)\n",
    "rs"
   ]
  },
  {
   "cell_type": "code",
   "execution_count": null,
   "id": "mighty-nitrogen",
   "metadata": {},
   "outputs": [],
   "source": []
  }
 ],
 "metadata": {
  "kernelspec": {
   "display_name": "Python 3",
   "language": "python",
   "name": "python3"
  },
  "language_info": {
   "codemirror_mode": {
    "name": "ipython",
    "version": 3
   },
   "file_extension": ".py",
   "mimetype": "text/x-python",
   "name": "python",
   "nbconvert_exporter": "python",
   "pygments_lexer": "ipython3",
   "version": "3.9.2"
  }
 },
 "nbformat": 4,
 "nbformat_minor": 5
}
